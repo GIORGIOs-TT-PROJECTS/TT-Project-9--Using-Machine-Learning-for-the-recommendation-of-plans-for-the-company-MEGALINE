{
 "cells": [
  {
   "cell_type": "markdown",
   "metadata": {},
   "source": [
    "\n",
    "# Using Machine Learning for the recommendation of plans for the company MEGALINE\n",
    "\n",
    "\n",
    "Mobile company Megaline is not happy to see that many of its customers are using legacy plans, which are mobile plans that a person has had for a long time and are no longer available to new customers or users. We need to develop a model that can analyze customer behavior and recommend one of Megaline's new plans: Smart or Ultra.\n",
    "\n",
    "We have access to behavioral data of subscribers who have already switched to the new plans. The classification model must choose the right plan for the customer based on their consumption habits.\n",
    "\n",
    "Develop a model with the highest possible accuracy. In this project, the accuracy threshold is 0.75. Use the dataset to check the accuracy.\n",
    "\n",
    "For the development of the model we will use the following machine learning algorithms:\n",
    "\n",
    "- Decision Tree\n",
    "- Random Forest\n",
    "\n",
    "The overall data will be split into training, validation, and test sets. Both models will be trained and fine-tuned using the training and validation sets, with the goal of optimizing the hyperparameters to achieve maximum accuracy. Once the optimal hyperparameters are established, the models will be evaluated using the test set, and the one with the highest accuracy will be selected as the final model."
   ]
  },
  {
   "cell_type": "markdown",
   "metadata": {},
   "source": [
    "### 1.- IMPORTING LIBRARIES"
   ]
  },
  {
   "cell_type": "code",
   "execution_count": 50,
   "metadata": {},
   "outputs": [],
   "source": [
    "import pandas as pd\n",
    "import matplotlib.pyplot as plt\n",
    "import seaborn as sns\n",
    "from sklearn.tree import DecisionTreeClassifier\n",
    "from sklearn.ensemble import RandomForestClassifier\n",
    "from sklearn.model_selection import train_test_split\n",
    "from sklearn.metrics import accuracy_score\n",
    "from sklearn.metrics import precision_score\n",
    "from sklearn.metrics import recall_score\n",
    "from sklearn.metrics import f1_score\n",
    "from sklearn.metrics import confusion_matrix"
   ]
  },
  {
   "cell_type": "markdown",
   "metadata": {},
   "source": [
    "### 2.- LOADING THE DATA\n",
    "\n",
    "The csv file `users_behavior.csv` will be read and stored in the dataframe `df`."
   ]
  },
  {
   "cell_type": "code",
   "execution_count": 3,
   "metadata": {},
   "outputs": [],
   "source": [
    "df = pd.read_csv('M:/0. GIORGIO DOC/0. AUSTRALIA/COURSES/1. TRIPLETEN - DATA SCIENCE/9 SPRINT - INTRODUCTION TO MACHINE LEARNING/PROJECT SP9 ML MEGALINE/dataset/users_behavior.csv')"
   ]
  },
  {
   "cell_type": "markdown",
   "metadata": {},
   "source": [
    "### 3.- EXPLORING THE DATA"
   ]
  },
  {
   "cell_type": "code",
   "execution_count": 4,
   "metadata": {},
   "outputs": [
    {
     "name": "stdout",
     "output_type": "stream",
     "text": [
      "<class 'pandas.core.frame.DataFrame'>\n",
      "RangeIndex: 3214 entries, 0 to 3213\n",
      "Data columns (total 5 columns):\n",
      " #   Column    Non-Null Count  Dtype  \n",
      "---  ------    --------------  -----  \n",
      " 0   calls     3214 non-null   float64\n",
      " 1   minutes   3214 non-null   float64\n",
      " 2   messages  3214 non-null   float64\n",
      " 3   mb_used   3214 non-null   float64\n",
      " 4   is_ultra  3214 non-null   int64  \n",
      "dtypes: float64(4), int64(1)\n",
      "memory usage: 125.7 KB\n",
      "None\n"
     ]
    },
    {
     "data": {
      "text/html": [
       "<div>\n",
       "<style scoped>\n",
       "    .dataframe tbody tr th:only-of-type {\n",
       "        vertical-align: middle;\n",
       "    }\n",
       "\n",
       "    .dataframe tbody tr th {\n",
       "        vertical-align: top;\n",
       "    }\n",
       "\n",
       "    .dataframe thead th {\n",
       "        text-align: right;\n",
       "    }\n",
       "</style>\n",
       "<table border=\"1\" class=\"dataframe\">\n",
       "  <thead>\n",
       "    <tr style=\"text-align: right;\">\n",
       "      <th></th>\n",
       "      <th>calls</th>\n",
       "      <th>minutes</th>\n",
       "      <th>messages</th>\n",
       "      <th>mb_used</th>\n",
       "      <th>is_ultra</th>\n",
       "    </tr>\n",
       "  </thead>\n",
       "  <tbody>\n",
       "    <tr>\n",
       "      <th>449</th>\n",
       "      <td>115.0</td>\n",
       "      <td>849.21</td>\n",
       "      <td>52.0</td>\n",
       "      <td>22433.77</td>\n",
       "      <td>1</td>\n",
       "    </tr>\n",
       "    <tr>\n",
       "      <th>1551</th>\n",
       "      <td>74.0</td>\n",
       "      <td>555.25</td>\n",
       "      <td>27.0</td>\n",
       "      <td>25718.19</td>\n",
       "      <td>1</td>\n",
       "    </tr>\n",
       "    <tr>\n",
       "      <th>593</th>\n",
       "      <td>96.0</td>\n",
       "      <td>679.61</td>\n",
       "      <td>19.0</td>\n",
       "      <td>16174.21</td>\n",
       "      <td>0</td>\n",
       "    </tr>\n",
       "    <tr>\n",
       "      <th>1338</th>\n",
       "      <td>71.0</td>\n",
       "      <td>452.15</td>\n",
       "      <td>39.0</td>\n",
       "      <td>16057.57</td>\n",
       "      <td>0</td>\n",
       "    </tr>\n",
       "    <tr>\n",
       "      <th>1911</th>\n",
       "      <td>62.0</td>\n",
       "      <td>423.82</td>\n",
       "      <td>16.0</td>\n",
       "      <td>8378.35</td>\n",
       "      <td>0</td>\n",
       "    </tr>\n",
       "    <tr>\n",
       "      <th>844</th>\n",
       "      <td>160.0</td>\n",
       "      <td>1055.79</td>\n",
       "      <td>54.0</td>\n",
       "      <td>33629.53</td>\n",
       "      <td>1</td>\n",
       "    </tr>\n",
       "    <tr>\n",
       "      <th>3206</th>\n",
       "      <td>76.0</td>\n",
       "      <td>586.51</td>\n",
       "      <td>54.0</td>\n",
       "      <td>14345.74</td>\n",
       "      <td>0</td>\n",
       "    </tr>\n",
       "    <tr>\n",
       "      <th>1990</th>\n",
       "      <td>94.0</td>\n",
       "      <td>748.25</td>\n",
       "      <td>8.0</td>\n",
       "      <td>18241.10</td>\n",
       "      <td>0</td>\n",
       "    </tr>\n",
       "    <tr>\n",
       "      <th>117</th>\n",
       "      <td>80.0</td>\n",
       "      <td>588.57</td>\n",
       "      <td>47.0</td>\n",
       "      <td>9863.23</td>\n",
       "      <td>0</td>\n",
       "    </tr>\n",
       "    <tr>\n",
       "      <th>1956</th>\n",
       "      <td>81.0</td>\n",
       "      <td>531.22</td>\n",
       "      <td>56.0</td>\n",
       "      <td>17755.06</td>\n",
       "      <td>0</td>\n",
       "    </tr>\n",
       "  </tbody>\n",
       "</table>\n",
       "</div>"
      ],
      "text/plain": [
       "      calls  minutes  messages   mb_used  is_ultra\n",
       "449   115.0   849.21      52.0  22433.77         1\n",
       "1551   74.0   555.25      27.0  25718.19         1\n",
       "593    96.0   679.61      19.0  16174.21         0\n",
       "1338   71.0   452.15      39.0  16057.57         0\n",
       "1911   62.0   423.82      16.0   8378.35         0\n",
       "844   160.0  1055.79      54.0  33629.53         1\n",
       "3206   76.0   586.51      54.0  14345.74         0\n",
       "1990   94.0   748.25       8.0  18241.10         0\n",
       "117    80.0   588.57      47.0   9863.23         0\n",
       "1956   81.0   531.22      56.0  17755.06         0"
      ]
     },
     "execution_count": 4,
     "metadata": {},
     "output_type": "execute_result"
    }
   ],
   "source": [
    "# We show the data\n",
    "print(df.info()) \n",
    "df.sample(10)"
   ]
  },
  {
   "cell_type": "markdown",
   "metadata": {},
   "source": [
    "Each column in the dataframe contains monthly behavior information about a user. The information given is as follows:\n",
    "\n",
    "- `сalls` — number of calls.\n",
    "- `minutes` — total duration of the call in minutes.\n",
    "- `messages` — number of text messages.\n",
    "- `mb_used` — Internet traffic used in MB.\n",
    "- `is_ultra` — plan for the current month (Ultra - 1, Smart - 0).\n",
    "\n",
    "The dataframe does not contain any missing `NAN` data and the data types match its characteristics."
   ]
  },
  {
   "cell_type": "markdown",
   "metadata": {},
   "source": [
    "## 4.- MODELING"
   ]
  },
  {
   "cell_type": "markdown",
   "metadata": {},
   "source": [
    "We will use the following 2 algorithms:\n",
    "\n",
    "- Decision Tree\n",
    "- Random Forest\n",
    "\n",
    "The model with the highest accuracy will be chosen for final testing. Models will be evaluated using the test data and their accuracy will be measured to determine their performance and which algorithm is superior."
   ]
  },
  {
   "cell_type": "markdown",
   "metadata": {},
   "source": [
    "### 4.1 Splitting data into dataset\n",
    "\n",
    "The `is_ultra` column indicates the plan used by a customer, it contains a `0` if the `Smart` plan is used and a 1 if the `Ultra` plan is used. Since our goal is to recommend a plan to customers based on their data usage habits, the `is_ultra` column will be our `target` column. The other columns (`calls`, `minutes`, `messages`, `mb_used`) provide insights into each customer's data usage behavior and have some influence on their decision to sign up for the Smart or Ultra plan, so these columns will be our `features` columns."
   ]
  },
  {
   "cell_type": "code",
   "execution_count": 5,
   "metadata": {},
   "outputs": [],
   "source": [
    "# The characteristics of the data frame are included in all columns except the 'is_ultra' column.\n",
    "# The axis = 1 parameter of the drop method is to delete a column.\n",
    "features = df.drop('is_ultra', axis=1)\n",
    "\n",
    "# The target of the dataframe is the column 'is_ultra'\n",
    "target = df['is_ultra']"
   ]
  },
  {
   "cell_type": "markdown",
   "metadata": {},
   "source": [
    "Since we do not have a test dataset `test` we must split the data of the features `features` and the target `target` into training `training`, validation `validation` and test `test` with a ratio of 3:1:1. Specifically the datasets `training`, `validation` and `test` consisting of `60%, 20% and 20%` of the `features` and `target` data respectively."
   ]
  },
  {
   "cell_type": "code",
   "execution_count": 6,
   "metadata": {},
   "outputs": [],
   "source": [
    "# We will split the training dataset into validation and test data.\n",
    "# We will split the data as train and others with a ratio of 60% (0.6) to 40% (0.4)\n",
    "\n",
    "features_train, features_other, target_train, target_other  = train_test_split(features, target, test_size=0.4,\\\n",
    "                                                              random_state=88888)\n",
    "\n",
    "# Now we will divide features_others and target_others in validation and training data\n",
    "# Since the others dataset represents 40% of the total data we must consider test_size= 0.5 for\n",
    "# that the validation and testing dataset portion represents 20% of the total data\n",
    "\n",
    "features_valid, features_test, target_valid, target_test = train_test_split(features_other, target_other,\\\n",
    "                                                           test_size=0.5, random_state=88888)\n"
   ]
  },
  {
   "cell_type": "markdown",
   "metadata": {},
   "source": [
    "We will evaluate the `Decision Tree DT` and `Random Forest RF` algorithms to find the best models respectively considering an `accuracy` greater than `75% or 0.75`"
   ]
  },
  {
   "cell_type": "markdown",
   "metadata": {},
   "source": [
    "### 4.2 Decision Tree Algorithm"
   ]
  },
  {
   "cell_type": "markdown",
   "metadata": {},
   "source": [
    "\n",
    "The Decision Tree algorithm is a supervised learning model used for classification and regression tasks. It works by dividing the data set into smaller subsets using hierarchical decisions (in the form of nodes) based on the characteristics of the data. At the end of the tree branches are the predictions or results.\n",
    "\n",
    "Since the `target` column has binary values, 0 or 1, the task of predicting the target values ​​is a `binary classification` task. A `Decision Tree` model is a suitable algorithm for this type of task. The maximum depth (`max_depth`) of the tree is a crucial hyperparameter in the decision tree model. Therefore, the following code block will create different models with different depth. The accuracy of each model will be evaluated and the model with the highest accuracy will be presented."
   ]
  },
  {
   "cell_type": "code",
   "execution_count": null,
   "metadata": {},
   "outputs": [
    {
     "name": "stdout",
     "output_type": "stream",
     "text": [
      "El mejor modelo: DecisionTreeClassifier(max_depth=7, random_state=88888)\n",
      "La mejor Exactitud: 79.32%\n",
      "El mejor Depth: 7\n"
     ]
    }
   ],
   "source": [
    "# Initialization\n",
    "best_model = None\n",
    "best_DT_accuracy = 0.75\n",
    "best_depth = 0\n",
    "\n",
    "# We create different models with different depths values\n",
    "\n",
    "# We use a FOR loop to evaluate different depth values ​​(from 1 to 100)\n",
    "for depth in range(1,100):\n",
    "    \n",
    "    # We create the model by adjusting the hyperparameters max_depth and random_state\n",
    "    DT_model = DecisionTreeClassifier(max_depth=depth, random_state=88888)\n",
    "    \n",
    "    # We train the model using the TRAIN training data\n",
    "    DT_model.fit(features_train, target_train)\n",
    "    \n",
    "    # We predict the target values ​​using the features_valid feature data\n",
    "    DT_predictions_valid = DT_model.predict(features_valid)\n",
    "    \n",
    "    # We calculate the ACCURACY accuracy of the model:\n",
    "    try:\n",
    "        accuracy = accuracy_score(target_valid, DT_predictions_valid)\n",
    "    except:\n",
    "        break\n",
    "    \n",
    "    # We determine the best hyperparameter setting\n",
    "    if accuracy > best_DT_accuracy:\n",
    "        best_DT_model = DT_model\n",
    "        best_DT_depth = depth\n",
    "        best_DT_accuracy= accuracy\n",
    "\n",
    "print('El mejor modelo:', best_DT_model)\n",
    "print(f\"Best Accuracy: {round(best_DT_accuracy*100,2)}%\")\n",
    "print('El mejor Depth:', best_DT_depth)\n"
   ]
  },
  {
   "cell_type": "markdown",
   "metadata": {},
   "source": [
    "The best `Decision tree` model with the highest `accuracy of 79.32%` is tuned with hyperparameters `depth = 7`\n",
    "\n",
    "The model is stored in `best_DT_model` and will be used in the testing phase."
   ]
  },
  {
   "cell_type": "markdown",
   "metadata": {},
   "source": [
    "### 4.3 Random Forest Algorithm\n",
    "\n",
    "The Random Forest algorithm is a supervised learning model used primarily for classification and regression tasks. It is based on combining multiple `decision trees` to improve performance and reduce overfitting. The main idea behind this algorithm is to create a \"forest\" of decision trees, where each tree is trained with a random subset of the data and a random selection of features, and then the predictions of all the trees are combined to obtain a more robust final prediction.\n",
    "\n",
    "Let us use the model to predict the target values. The maximum depth `max_depth` and the number of estimators `n_estimators` are important hyperparameters for a random forest model. The number of estimators is equivalent to the number of decision trees in the model. To identify the optimal combination of hyperparameters, models with different values ​​of both maximum depth and number of estimators will be trained and evaluated. This will be done by using nested for loops to iterate through a range of values ​​for each hyperparameter. All resulting models will be evaluated for accuracy and the random forest model with the highest accuracy will be presented."
   ]
  },
  {
   "cell_type": "code",
   "execution_count": 44,
   "metadata": {},
   "outputs": [
    {
     "name": "stdout",
     "output_type": "stream",
     "text": [
      "El mejor modelo: RandomForestClassifier(max_depth=12, n_estimators=22, random_state=88888)\n",
      "La mejor exactitud: 80.09%\n",
      "El mejor Depth: 12\n",
      "El mejor n_estimators: 22\n"
     ]
    }
   ],
   "source": [
    "# Initialization\n",
    "best_model = None\n",
    "best_result = 10000\n",
    "best_est = 0\n",
    "best_depth = 0\n",
    "best_score = 0\n",
    "best_RF_accuracy = 0.75\n",
    "\n",
    "# We created different models with different depths values ​​and number of estimators\n",
    "\n",
    "# We use a FOR loop to evaluate the number of estimators n_estimators (from 1 to 30)\n",
    "for est in range(1,30):\n",
    "    \n",
    "    # We use a FOR loop to evaluate different depth values ​​(from 1 to 100)\n",
    "    for depth in range (1, 100):\n",
    "        \n",
    "        # We create the model by adjusting the hyperparameters max_depth, random_state and n_estimators\n",
    "        RF_model = RandomForestClassifier(max_depth=depth, random_state=88888, n_estimators=est)\n",
    "        \n",
    "        # We train the model using the training dataset\n",
    "        RF_model.fit(features_train, target_train)\n",
    "\n",
    "        # We predict the target values ​​using the features_valid feature data\n",
    "        RF_predictions_valid = RF_model.predict(features_valid)\n",
    "       \n",
    "        # We determine the best hyperparameter setting\n",
    "        try:\n",
    "            accuracy = accuracy_score(target_valid, RF_predictions_valid)\n",
    "        except:\n",
    "            break\n",
    "\n",
    "     # We determine the best hyperparameter setting\n",
    "        if accuracy > best_RF_accuracy:\n",
    "            best_RF_model = RF_model\n",
    "            best_RF_accuracy = accuracy\n",
    "            best_RF_depth = depth\n",
    "            best_est = est\n",
    "\n",
    "print('El mejor modelo:', best_RF_model)\n",
    "print(f\"Best accuracy: {round(best_RF_accuracy*100,2)}%\")\n",
    "print('El mejor Depth:', best_RF_depth)\n",
    "print('El mejor n_estimators:', best_est)\n"
   ]
  },
  {
   "cell_type": "markdown",
   "metadata": {},
   "source": [
    "The best `Random Forest` model with the highest `accuracy of 80.09%` is tuned with hyperparameters `max_depth = 12` and n_estimators = 22\n",
    "\n",
    "The model is stored in `best_RF_model` and will be used in the testing phase.\n"
   ]
  },
  {
   "cell_type": "markdown",
   "metadata": {},
   "source": [
    "## 5.- TEST MODEL"
   ]
  },
  {
   "cell_type": "markdown",
   "metadata": {},
   "source": [
    "We will use the selected models `DT` and `RF` with their hyperparameters that are tuned to obtain the highest accuracy and test them with the feature dataset `features_test` to check their accuracy. The model that achieves the highest accuracy with the test data will be the chosen model."
   ]
  },
  {
   "cell_type": "code",
   "execution_count": null,
   "metadata": {},
   "outputs": [
    {
     "name": "stdout",
     "output_type": "stream",
     "text": [
      "Modelo Decision Tree DT -  Accuracy: 79.32%\n",
      "Modelo Random Forest RF -  Accuracy: 80.56%\n",
      "\n",
      "El mejor modelo es: RandomForestClassifier(max_depth=12, n_estimators=22, random_state=88888)\n"
     ]
    }
   ],
   "source": [
    "# Testing the DT model using the Test dataset\n",
    "test_DT_predictions = best_DT_model.predict(features_test)\n",
    "test_DT_accuracy = accuracy_score(target_test, test_DT_predictions)\n",
    "\n",
    "print(f\"Decision Tree DT Model - Accuracy: {round(test_DT_accuracy*100,2)}%\")\n",
    "\n",
    "# Testing the RF model using the Test dataset\n",
    "test_RF_predictions = best_RF_model.predict(features_test)\n",
    "test_RF_accuracy = accuracy_score(target_test, test_RF_predictions)\n",
    "\n",
    "print(f\"Random Forest RF Model - Accuracy: {round(test_RF_accuracy*100.2)}%\")\n",
    "\n",
    "# Select the best model based on the accuracy obtained by the models\n",
    "if test_DT_accuracy > test_RF_accuracy:\n",
    "    best_model = best_DT_model\n",
    "else:\n",
    "    best_model = best_RF_model\n",
    "    \n",
    "    print('\\nEl mejor modelo es:', best_model)\n",
    "    "
   ]
  },
  {
   "cell_type": "markdown",
   "metadata": {},
   "source": [
    "Using the test dataset, it was verified that `Random Forest` is the best model, achieving an `accuracy of 80.56%` in the test with the TEST dataset, which indicates that the model is capable of predicting targets with a high degree of certainty."
   ]
  },
  {
   "cell_type": "markdown",
   "metadata": {},
   "source": [
    "## 6.- SANITY CHECK"
   ]
  },
  {
   "cell_type": "markdown",
   "metadata": {},
   "source": [
    "Performing a sanity test or validation of a model (such as a Random Forest) is a crucial step to ensure that the model is working correctly and that the predictions are reliable. This involves evaluating both the predictive ability and the generalization of the model on unseen data.\n",
    "Once the model has been trained on the training set and tested on the test set, various metrics should be used to evaluate its performance. The most common metrics for classification cases are the following:\n",
    "\n",
    "- Accuracy\n",
    "- Precision\n",
    "- Recall or Sensitivity (Recall)\n",
    "- F1-Score\n",
    "- Confusion Matrix"
   ]
  },
  {
   "cell_type": "markdown",
   "metadata": {},
   "source": [
    "**Precision**\n",
    "\n",
    "Precision is calculated as the proportion of true positives (TP) among the positive results predicted by the model (i.e., the sum of true positives and false positives):\n",
    "\n",
    "$$TP / (TP + FP)$$\n",
    "\n",
    "If the model predicts a positive class and that prediction is correct, it is a true positive (TP). If the model predicts a positive class but the actual label is negative, it is a false positive (FP)."
   ]
  },
  {
   "cell_type": "code",
   "execution_count": 37,
   "metadata": {},
   "outputs": [
    {
     "name": "stdout",
     "output_type": "stream",
     "text": [
      "Precisión (Precision) con Plan Ultra como clase positiva: 0.72\n",
      "Precisión (Precision) con Plan Smart como clase positiva: 0.83\n"
     ]
    }
   ],
   "source": [
    "# pos_label = 1, indicates that \"1\" (Ultra Plan) is the positive class.\n",
    "\n",
    "precision_Ultra = precision_score(target_test, test_RF_predictions, average = 'binary', pos_label= 1)\n",
    "print(f\"Precision with Plan Ultra as positive class: {precision_Ultra:.2f}\")\n",
    "\n",
    "# pos_label = 0, indicates that \"0\" (Smart Plan) is the positive class.\n",
    "\n",
    "precision_Smart = precision_score(target_test, test_RF_predictions, average = 'binary', pos_label= 0)\n",
    "print(f\"Precision with Smart Plan as positive class: {precision_Smart:.2f}\")"
   ]
  },
  {
   "cell_type": "markdown",
   "metadata": {},
   "source": [
    "**Sensitivity (Recall)**\n",
    "\n",
    "Sensitivity or recall is calculated as the proportion of true positives (TP) among the total number of elements that really belong to the positive class (true positives + false negatives).\n",
    "\n",
    "$$TP / (TP + FN)$$\n",
    "\n",
    "False negative (FN) occurs when the model predicts the negative class, but the actual label is positive."
   ]
  },
  {
   "cell_type": "code",
   "execution_count": null,
   "metadata": {},
   "outputs": [
    {
     "name": "stdout",
     "output_type": "stream",
     "text": [
      "Recall (Sensibilidad) con Plan Ultra como clase positiva:: 0.56\n",
      "Recall (Sensibilidad) con Plan Smart como clase positiva:: 0.91\n"
     ]
    }
   ],
   "source": [
    "recall_Ultra = recall_score(target_test, test_RF_predictions, pos_label=1)\n",
    "print(f\"Recall (Sensitivity) with Ultra Plan as positive class:: {recall_Ultra:.2f}\")\n",
    "\n",
    "recall_Smart = recall_score(target_test, test_RF_predictions, pos_label=0)\n",
    "print(f\"Recall (Sensitivity) with Smart Plan as positive class:: {recall_Smart:.2f}\")"
   ]
  },
  {
   "cell_type": "markdown",
   "metadata": {},
   "source": [
    "**F1-Score**\n",
    "\n",
    "The F1-Score is a metric that combines precision and recall into a single score. It is especially useful when classes are imbalanced (for example, if you have more examples of one class than the other).\n",
    "\n",
    "$$F1 = 2 * ((PRECISION * RECALL ) / (PRECISION + RECALL ))$$\n",
    "\n",
    "If you want to calculate the F1-Score for a specific class (for example, class 1)"
   ]
  },
  {
   "cell_type": "code",
   "execution_count": 42,
   "metadata": {},
   "outputs": [
    {
     "name": "stdout",
     "output_type": "stream",
     "text": [
      "F1-Score con Plan Ultra como clase positiva:: 0.63\n",
      "F1-Score con Plan Smart como clase positiva:: 0.63\n"
     ]
    }
   ],
   "source": [
    "f1_Ultra = f1_score(target_test, test_RF_predictions, pos_label=1)\n",
    "print(f\"F1-Score with Ultra Plan as positive class:: {f1_Ultra:.2f}\")\n",
    "\n",
    "f1_Smart = f1_score(target_test, test_RF_predictions, pos_label=1)\n",
    "print(f\"F1-Score with Smart Plan as positive class:: {f1_Smart:.2f}\")"
   ]
  },
  {
   "cell_type": "markdown",
   "metadata": {},
   "source": [
    "**Confusion Matrix**\n",
    "\n",
    "The Confusion Matrix is ​​a fundamental tool for evaluating the performance of a classification model. In a binary classification model, the confusion matrix shows the numbers of correct and incorrect predictions in each class. It is organized in a 2x2 table with the following entries:\n",
    "\n",
    "- TP (True Positives): The model predicted class 1 and the actual class is 1.\n",
    "- TN (True Negatives): The model predicted class 0 and the actual class is 0.\n",
    "- FP (False Positives): The model predicted class 1, but the actual class is 0.\n",
    "- FN (False Negatives): The model predicted class 0, but the actual class is 1."
   ]
  },
  {
   "cell_type": "code",
   "execution_count": 53,
   "metadata": {},
   "outputs": [
    {
     "data": {
      "image/png": "[encoded data removed]",
      "text/plain": [
       "<Figure size 640x480 with 2 Axes>"
      ]
     },
     "metadata": {},
     "output_type": "display_data"
    }
   ],
   "source": [
    "# Calculate the confusion matrix\n",
    "cm = confusion_matrix(target_test, test_RF_predictions)\n",
    "\n",
    "# Visualize the confusion matrix\n",
    "sns.heatmap(cm, annot=True, fmt='d', cmap='Blues', xticklabels=['Smart', 'Ultra'], yticklabels=['Smart', 'Ultra'])\n",
    "plt.xlabel('PREDICCION')\n",
    "plt.ylabel('REAL')\n",
    "plt.title('MATRIZ DE CONFUSION')\n",
    "plt.show()"
   ]
  },
  {
   "cell_type": "markdown",
   "metadata": {},
   "source": [
    "The results are:\n",
    "- 412 are the true negatives (predicted 0 and it was 0).\n",
    "- 106 are true positives (predicted 1 and it was 1).\n",
    "- 42 are false positives (predicted 1, but it was 0).\n",
    "- 83 are false negatives (predicted 0, but it was 1)."
   ]
  },
  {
   "cell_type": "markdown",
   "metadata": {},
   "source": [
    "## 7.- CONCLUSION"
   ]
  },
  {
   "cell_type": "markdown",
   "metadata": {},
   "source": [
    "Mobile operator Megaline requested a trained model that would recommend one of its newer plans to customers continuing to use legacy plans. It was determined that this was a binary classification task as only the Ultra or Smart plan could be recommended. Therefore, the two models that were trained were a Decision Tree model and a Random Forest.\n",
    "\n",
    "The features and target data were divided into 3 datasets as follows:\n",
    "\n",
    "Training dataset (60%)\n",
    "Validation dataset (20%)\n",
    "Test dataset (20%)\n",
    "\n",
    "Multiple models were created with various combinations of hyperparameters. They were trained on the same data and then their accuracy was compared. The Decision Tree and Random Forest models were then tested with higher accuracy using the test data. The accuracy of the best Decision Tree model was calculated to be 79.32% and the accuracy of the best Random Forest model was calculated to be 80.09%. Both models exceed the accuracy threshold of 75%. The best Random Forest model is slightly more accurate than the best Decision Tree model, so that should be the model delivered to Megaline."
   ]
  },
  {
   "cell_type": "markdown",
   "metadata": {},
   "source": []
  }
 ],
 "metadata": {
  "kernelspec": {
   "display_name": "ML_env",
   "language": "python",
   "name": "python3"
  },
  "language_info": {
   "codemirror_mode": {
    "name": "ipython",
    "version": 3
   },
   "file_extension": ".py",
   "mimetype": "text/x-python",
   "name": "python",
   "nbconvert_exporter": "python",
   "pygments_lexer": "ipython3",
   "version": "3.12.7"
  },
  "toc": {
   "base_numbering": 1,
   "nav_menu": {},
   "number_sections": true,
   "sideBar": true,
   "skip_h1_title": true,
   "title_cell": "Table of Contents",
   "title_sidebar": "Contents",
   "toc_cell": false,
   "toc_position": {},
   "toc_section_display": true,
   "toc_window_display": false
  }
 },
 "nbformat": 4,
 "nbformat_minor": 2
}
